{
 "cells": [
  {
   "cell_type": "code",
   "execution_count": 12,
   "metadata": {},
   "outputs": [],
   "source": [
    "import matplotlib.pyplot as plt\n",
    "import matplotlib.cm as cm\n",
    "import scipy.special as ss\n",
    "import numpy as np\n",
    "import math, pdb, sympy\n",
    "import matplotlib as mpl\n",
    "from mpl_toolkits.mplot3d import Axes3D"
   ]
  },
  {
   "cell_type": "code",
   "execution_count": 13,
   "metadata": {},
   "outputs": [],
   "source": [
    "def energyZeeman(L,m):\n",
    "\n",
    "    #bohr magneton\n",
    "    mu=9.27E-24\n",
    "\n",
    "    #spin for an electron, can be changed\n",
    "    S = 1/2\n",
    "\n",
    "    J = L + S\n",
    "\n",
    "    #lande factor\n",
    "    g = 3/2 + (S*(S+1)-L*(L+1))/(2*J*(J+1))\n",
    "\n",
    "    E = mu*m*g\n",
    "\n",
    "    return E\n"
   ]
  },
  {
   "cell_type": "code",
   "execution_count": 17,
   "metadata": {},
   "outputs": [],
   "source": [
    "def graphforN(n):\n",
    "    \n",
    "    L = np.arange(0,n,1)\n",
    "\n",
    "    #The starting energy level for a specific n, constants to be in Joules\n",
    "    E0 = -13.1*(1.602E-19)*1/(n**2)\n",
    "\n",
    "    #B is just to illustrate and can ve varied here\n",
    "    #change the maximum B to see the effect more clearly\n",
    "    B = np.linspace(0,2000,num=10)\n",
    "\n",
    "    for l in L:\n",
    "        j=l+1/2\n",
    "        M = np.arange(-j,j+1,1)\n",
    "        #print(M)\n",
    "        for m in M:\n",
    "            E = energyZeeman(l,m)\n",
    "            y = E*B+E0\n",
    "            plt.plot(B,y,'b')\n",
    "            plt.xlabel('Magnetic Field')\n",
    "            plt.ylabel('Energy')\n",
    "\n",
    "\n"
   ]
  },
  {
   "cell_type": "code",
   "execution_count": null,
   "metadata": {},
   "outputs": [],
   "source": []
  },
  {
   "cell_type": "code",
   "execution_count": null,
   "metadata": {},
   "outputs": [],
   "source": []
  }
 ],
 "metadata": {
  "kernelspec": {
   "display_name": "Python 3",
   "language": "python",
   "name": "python3"
  },
  "language_info": {
   "codemirror_mode": {
    "name": "ipython",
    "version": 3
   },
   "file_extension": ".py",
   "mimetype": "text/x-python",
   "name": "python",
   "nbconvert_exporter": "python",
   "pygments_lexer": "ipython3",
   "version": "3.8.5"
  }
 },
 "nbformat": 4,
 "nbformat_minor": 4
}
