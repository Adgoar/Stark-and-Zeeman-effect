{
 "cells": [
  {
   "cell_type": "markdown",
   "metadata": {},
   "source": [
    "# Efecto Stark\n",
    "\n",
    "Ahora se estudiaran los efectos de un campo eléctrico externo constante $\\boldsymbol{\\mathcal{E}}$, en los niveles de energía de un átomo con un electrón. Para esto se debe añadir al Hamiltoniano ``base'' descrito por \n",
    "\n",
    "$$\\hat{H}_0  = -\\frac{\\hbar^2}{2m}\\nabla^2 -  \\frac{1}{4\\pi \\epsilon_0}\\frac{Ze^2}{r} $$\n",
    "\n",
    "un término $W_s$ asociado a la interacción del campo eléctrico con el momento dipolar eléctrico ($\\boldsymbol{D} = -e \\boldsymbol{R}$) intrínseco del electrón, dado por la Ec \n",
    "\n",
    "$$W_s = e \\boldsymbol{\\mathcal{E}} \\boldsymbol{R} = e \\mathcal{E} z$$\n",
    "\n",
    "Para efectos de simplicidad se considera que la magnitud del campo eléctrico es lo suficientemente grande para que el efecto de $W_s$ sea mucho mayor que los efectos de corrección por estructura-fina e hiperfina, y por ende, que estas perturbaciones puedan ser obviadas. Con esto en mente, se utilizará la teoría de perturbaciones para calcular el efecto de $W_s$ en los autoestados de $\\hat{H}_0$.\n",
    "\n",
    "### Estado Base\n",
    " \n",
    "Como el estado base $\\psi_{100}(r)$ es no-degenerado, la *corrección* de primer orden para la energía será:\n",
    "\n",
    " $$E^{(1)}_{100} = <100 | W_s |100> = e\\mathcal{E} <100| z |100>$$\n",
    "\n",
    " \n",
    "que equivale a 0 porque el operador z es impar, y el estado base tiene paridad par, por lo que el elemento de matriz es 0. Por lo tanto, la perturbación de primer orden ocasionada por la Ec. es no conlleva a ningún cambio en la energía del átomo.\n",
    "\n",
    "Entonces el desdoblamiento de niveles para el estado base estará dado por correcciones de segundo orden:\n",
    "\n",
    "$$E^{(2)}_{100} = e^2\\mathcal{E}^2 \\sum_{n\\neq1}\\sum_{l,m} \\frac{\\left | <100| z |nlm> \\right |^2}{E_1-E_n} $$\n",
    "\n",
    "en donde se puede notar que la corrección depende de $\\mathcal{E}^2$, por lo que se le llama *efecto Stark cuadrático*. Como $E_1-E_n$ es siempre negativo para $n>1$, la energía del estado base siempre se verá disminuida por el efecto de un campo eléctrico externo. \n",
    "\n",
    "### Estados excitados\n",
    "\n",
    "Para analizar el efecto de $\\boldsymbol{\\mathcal{E}}$ en los estados excitados de energía para átomos hidrogenoides se debe recurrir a teoría de perturbaciones degeneradas. Tomando como ejemplo el primer estado excitado (n=2), se tiene una degeneración de cuarto orden debido a las cuatro autofunciones:\n",
    "\n",
    "$$\\psi_{200}, \\psi_{210}, \\psi_{211}, \\psi_{21-1} $$\n",
    "\n",
    "\n",
    "Se debe diagonalizar la matriz de la perturbación $W_s$ en el subespacio abarcado por los cuatro autoestados correspondientes a los mencionados. Pero se sabe por reglas de selección que los elementos de matriz $<n'l'm'|W_s|nlm>$ serán 0 a menos que $l'= l\\pm1$ y $m'=m$, por lo que los únicos elementos de matriz que no se anulan son $<210|W_s|200>$, cuyo cálculo se puede realizar sin problemas teniendo en cuenta las funciones de onda hidrogenoides tal que\n",
    "\n",
    "$$W_{12} = e\\mathcal{E}\\frac{Z^3}{8a_0^3}\\frac{2}{3} \\int_{0}^{\\infty}dr \\left ( \\frac{Zr}{a_0} \\right )  r^3 \\left ( 1- \\frac{Zr}{2a_0} \\right ) e^{-Zr/a_0} = \\frac{-3e\\mathcal{E}a_0}{Z}$$\n",
    "\n",
    "con $a_0$ el radio de Bohr. De esta forma, las energías de los estados $|2,1,1>$ y $|2,1,-1>$ no se ven alterados; mientras que la energía del estado simétrico\n",
    "\n",
    "$$\\psi_s = \\frac{1}{\\sqrt{2}}(\\psi_{200} + \\psi_{210}) $$ \n",
    "\n",
    "se ve disminuido por la magnitud $3e\\mathcal{E}a_0/Z$ y la del estado antisimétrico\n",
    "\n",
    "$$\\psi_a = \\frac{1}{\\sqrt{2}}(\\psi_{200} - \\psi_{210}) $$ \n",
    "\n",
    "se ve aumentado por la misma magnitud. Entonces el estado n=2 se desdobla en tres energías diferentes por causa de un campo eléctrico externo. Nótese que la correción de energía depende de $\\mathcal{E}$, por lo que a esta afectación se le llama *efecto Stark lineal*."
   ]
  },
  {
   "cell_type": "markdown",
   "metadata": {},
   "source": [
    "# Efecto Zeeman\n",
    "\n",
    "Este efecto corresponde a un desplazamiento en los niveles energía de un átomo, cuando este es sometido a un campo magnético externo,$\\boldsymbol{B}_{ext}$\n",
    "En un átomo sometido a $\\boldsymbol{B}_{ext}$, se tienen dos términos asociados a la energía: la estructura fina, representada por un Hamiltoniano, $\\hat{H}_0$\n",
    "$$\\hat{H}_0 = \\sum^Z_{j=1} \\Big\\{ -\\frac{\\hbar^2}{2m}\\nabla^2 - \\left( \\frac{1}{4\\pi \\epsilon_0}\\frac{Ze^2}{r_j} \\right) \\Big\\} + \\frac{1}{2}\\left( \\frac{1}{4\\pi \\epsilon_0} \\right) \\sum_{j\\neq k} \\frac{e^2}{\\lvert \\boldsymbol{r}_j - \\boldsymbol{r}_k \\rvert} $$\n",
    "y otro término asociado a $\\boldsymbol{B}_{ext}$, denominado efecto Zeeman, $\\hat{H}_Z$\n",
    "$$\\hat{H}'_Z = -( \\boldsymbol{\\mu}_l + \\boldsymbol{\\mu}_s)\\cdot \\boldsymbol{B}_{ext}$$\n",
    "$$= \\frac{e}{2m}( \\boldsymbol{L} + 2\\boldsymbol{S})\\cdot \\boldsymbol{B}_{ext}$$\n",
    "\n",
    "Siendo $\\boldsymbol{\\mu}_l$ el momento dipolar asociado al movimiento orbital, mientras que $\\boldsymbol{\\mu}_s$ el momento dipolar asociado a su spin. \n",
    "De modo tal que:\n",
    "$$\\hat{H} = \\hat{H}_0 + \\hat{H}'_Z$$\n",
    "\n",
    "Según la intensidad del campo magnético externo($\\boldsymbol{B}_{ext}$) en comparación con el campo magnético interno sobre el electrón a causa del movimiento relativo al protón del núcleo($\\boldsymbol{B}_{int}$), será su efecto y su tratamiento analítico matemático, se calsifican como:\n",
    "\n",
    "-Débil: $\\boldsymbol{B}_{ext} << \\boldsymbol{B}_{int}$, domina la estructura interna, y se toma el efecto como una perturbación.\n",
    "$$\\hat{H} = \\hat{H}_0 + \\lambda \\hat{H}'_Z$$\n",
    "\n",
    "Siendo $\\lambda$ el parámetro de perturbación.\n",
    "\n",
    "-Fuerte:$\\boldsymbol{B}_{ext} >> \\boldsymbol{B}_{int}$, domina el efecto magnético externo, de modo que la estructra fina se toma como una perturbación:\n",
    "\n",
    "$$\\hat{H} = \\hat{H}'_Z + \\lambda\\hat{H}_0 $$\n",
    "\n",
    "-Intermedio: No existe una dominancia entre estructura fina y campo magnético. Es necesario utilizar teoría perturbativa degenerativa.\n",
    "\n",
    "Por cuestiones de simplicidad, y en concordancia con los objetivos pedagógicos del \\textit{blog} que se desea crear asociado a este reporte, el enfoque es en el caso simple de un electrón y en su clasificación débil.\n",
    "Considerando la ecuación en primer orden perturbativo, se puede obtener una corrección de energía:\n",
    "\n",
    "   $$ E^{(1)}_Z = <nljm_j| \\hat{H}'_Z |nljm_j>    $$\n",
    "    $$ = \\frac{e}{2m}\\boldsymbol{B}_{ext}\\cdot <\\boldsymbol{L} + 2\\boldsymbol{S}>$$\n",
    "\n",
    "En la cual el valor esperado $<\\boldsymbol{L} + 2\\boldsymbol{S}>$ se puede hallar utilizando el momento angular total, $\\boldsymbol{J}$:\n",
    "\n",
    "$$<\\boldsymbol{L} + 2\\boldsymbol{S}>= \\left[ 1 + \\frac{j(j+1)-l(l+1)+3/4}{2j(j+1)}\\right]<\\boldsymbol{J}> $$\n",
    "$$ = g_j<\\boldsymbol{J}>$$\n",
    "\n",
    "donde $g_j$ es denominado **Factor-g de Landé**, y apoyándose también en la definición de \\textit{\\textbf{Mangnetón de Bohr}}:\n",
    "\n",
    "$$\\mu_B \\equiv \\frac{e\\hbar}{2m}$$\n",
    "\n",
    "tenemos que, alineando $\\boldsymbol{B}_{ext}$ al eje z, la corrección de energía buscada es entonces:\n",
    "\n",
    "$$E^{(1)}_Z = \\mu_Bg_jB_{ext}m_j$$\n",
    "\n",
    "Siendo $m_j$ el respectivo número cuántico magnético."
   ]
  },
  {
   "cell_type": "markdown",
   "metadata": {},
   "source": [
    "## Simulación\n",
    "\n",
    "Este código nos permite encontrar los diferentes niveles de energía para todos los posibles l y m dependiendo de cada n.\n",
    "Se pueden graficar varios n a la vez para ejemplificar el cambio\n",
    "Esto es para el caso simple de un electrón, se puede modificar facilmente para varios de ellos"
   ]
  },
  {
   "cell_type": "code",
   "execution_count": 5,
   "metadata": {},
   "outputs": [],
   "source": [
    "%run ./zeemaneffect.ipynb"
   ]
  },
  {
   "cell_type": "code",
   "execution_count": 6,
   "metadata": {},
   "outputs": [
    {
     "data": {
      "image/png": "[encoded data removed]",
      "text/plain": [
       "<Figure size 432x288 with 1 Axes>"
      ]
     },
     "metadata": {
      "needs_background": "light"
     },
     "output_type": "display_data"
    }
   ],
   "source": [
    "graphforN(2)\n",
    "graphforN(3)\n",
    "graphforN(4)\n",
    "plt.show()"
   ]
  },
  {
   "cell_type": "markdown",
   "metadata": {},
   "source": [
    "# Referencias\n",
    "\n",
    "\n",
    "[1]  D. J. Griffiths,Introduction to Quantum Mechanics. Pear-son Prentice Hall, 2nd ed., 2005.\n",
    "\n",
    "[2]  B. Bransden and C. Joachain,Quantum Mechanics. Pear-son Prentice Hall, 2nd ed., 2000.\n",
    "\n",
    "[3]  C. Cohen-Tannoudji, B. Diu, and F. Laloe,Quantum Me-chanics.  Wiley, 2005.\n",
    "\n",
    "[4]  P. R. Berman,Introductory Quantum Mechanics: A Tradi-tional  Approach  Emphasizing  Connections  with  ClassicalPhysics.  Springer, 2018"
   ]
  },
  {
   "cell_type": "code",
   "execution_count": null,
   "metadata": {},
   "outputs": [],
   "source": []
  }
 ],
 "metadata": {
  "kernelspec": {
   "display_name": "Python 3",
   "language": "python",
   "name": "python3"
  },
  "language_info": {
   "codemirror_mode": {
    "name": "ipython",
    "version": 3
   },
   "file_extension": ".py",
   "mimetype": "text/x-python",
   "name": "python",
   "nbconvert_exporter": "python",
   "pygments_lexer": "ipython3",
   "version": "3.8.5"
  }
 },
 "nbformat": 4,
 "nbformat_minor": 4
}
